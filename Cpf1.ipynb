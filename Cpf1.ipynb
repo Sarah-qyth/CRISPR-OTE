{
 "cells": [
  {
   "cell_type": "code",
   "execution_count": 1,
   "metadata": {
    "id": "_ncWWOG43yFx",
    "scrolled": true
   },
   "outputs": [
    {
     "name": "stderr",
     "output_type": "stream",
     "text": [
      "D:\\ProgramData\\Anaconda3\\envs\\pytorch\\lib\\site-packages\\torch\\package\\_directory_reader.py:17: UserWarning: Failed to initialize NumPy: No module named 'numpy.core._multiarray_umath' (Triggered internally at  ..\\torch\\csrc\\utils\\tensor_numpy.cpp:68.)\n",
      "  _dtype_to_storage = {data_type(0).dtype: data_type for data_type in _storages}\n"
     ]
    }
   ],
   "source": [
    "import torch\n",
    "import torch.nn as nn\n",
    "import pandas as pd\n",
    "import numpy as np\n",
    "from torch.utils.data import Dataset,DataLoader\n",
    "from scipy import stats\n",
    "from torch import cuda"
   ]
  },
  {
   "cell_type": "code",
   "execution_count": 2,
   "metadata": {
    "executionInfo": {
     "elapsed": 3,
     "status": "ok",
     "timestamp": 1633810041547,
     "user": {
      "displayName": "mengjiao Liu",
      "photoUrl": "https://lh3.googleusercontent.com/a/default-user=s64",
      "userId": "16843114060278642698"
     },
     "user_tz": -480
    },
    "id": "wE2DjHrd3yF6"
   },
   "outputs": [],
   "source": [
    "hidden = 16\n",
    "layer = 1\n",
    "modelpth = './model/Cpf1/' #\n",
    "modelname = 'CRISPR-OTE1.0'  #CRISPR-OTE2.0"
   ]
  },
  {
   "cell_type": "code",
   "execution_count": 3,
   "metadata": {
    "id": "z9aRYyDM3yF-"
   },
   "outputs": [],
   "source": [
    "# 数据封装\n",
    "class Dataset(Dataset):\n",
    "    def __init__(self, csv_file = r\"./data/csv/Data set HT 1-1.csv\", \n",
    "                 nrows = 15000, seqs_file = r\"./data/SEQs/1-1/SEQs.npy\", \n",
    "                 feas_file = r\"./data/new_fea/HT1-1_fea_datas.csv\"):\n",
    "        \n",
    "        self.df = pd.read_csv(csv_file, sep = \",\", header = 1, usecols = [9,11], nrows = nrows, \n",
    "                                names = ['Indel freqeuncy','Tm34'], \n",
    "                                dtype = {'Indel freqeuncy': np.float64}) \n",
    "        \n",
    "        self.seqs = np.load(seqs_file) # batch,50,4\n",
    "        self.feas = pd.read_csv(feas_file, sep = \",\", header = 0, index_col=0, nrows = nrows, dtype = np.float64) # batch,44\n",
    "        self.new_feas = self.feas.iloc[:,[40, 41, 42, 43]].values  # 4RNAfold\n",
    "        print(self.new_feas.shape)\n",
    "        self.Tms = self.df.iloc[:, -1].values \n",
    "        self.IFs = self.df['Indel freqeuncy'].values \n",
    "        self.IFs = self.IFs.reshape(-1, 1) \n",
    "        self.Tms = self.Tms.reshape(-1, 1) \n",
    "    \n",
    "    def __len__(self):\n",
    "            return len(self.seqs)\n",
    "\n",
    "    def __getitem__(self, index):\n",
    "        X = torch.from_numpy(self.seqs).float()\n",
    "        Y = torch.from_numpy(self.IFs).float()\n",
    "        T = torch.from_numpy(self.Tms).float()\n",
    "        R = torch.from_numpy(self.new_feas).float()\n",
    "        return X[index],Y[index],T[index],R[index]"
   ]
  },
  {
   "cell_type": "code",
   "execution_count": 4,
   "metadata": {
    "colab": {
     "base_uri": "https://localhost:8080/"
    },
    "executionInfo": {
     "elapsed": 7922,
     "status": "ok",
     "timestamp": 1633795949284,
     "user": {
      "displayName": "mengjiao Liu",
      "photoUrl": "https://lh3.googleusercontent.com/a/default-user=s64",
      "userId": "16843114060278642698"
     },
     "user_tz": -480
    },
    "id": "1E1ZkpT23yGI",
    "outputId": "12e0bac9-a291-4c0c-9e0d-5bdd4bbaad19"
   },
   "outputs": [
    {
     "name": "stdout",
     "output_type": "stream",
     "text": [
      "(1292, 4)\n",
      "(2963, 4)\n",
      "(1251, 4)\n"
     ]
    }
   ],
   "source": [
    "testDatasetHT12 = Dataset(csv_file = r\"./data/csv/Data set HT 1-2.csv\", nrows = 1292, \n",
    "              seqs_file = r\"./data/SEQs/1-2/SEQs.npy\", feas_file = r\"./data/new_fea/HT1-2_fea_datas.csv\")\n",
    "testDatasetHT2 = Dataset(csv_file = r\"./data/csv/Data set HT 2.csv\", nrows = 2963, \n",
    "              seqs_file = r\"./data/SEQs/2/SEQs.npy\", feas_file = r\"./data/new_fea/HT2_fea_datas.csv\")\n",
    "testDatasetHT3 = Dataset(csv_file = r\"./data/csv/Data set HT 3.csv\", nrows = 1251, \n",
    "              seqs_file = r\"./data/SEQs/3/SEQs.npy\", feas_file = r\"./data/new_fea/HT3_fea_datas.csv\")"
   ]
  },
  {
   "cell_type": "code",
   "execution_count": 5,
   "metadata": {
    "colab": {
     "base_uri": "https://localhost:8080/"
    },
    "executionInfo": {
     "elapsed": 366,
     "status": "ok",
     "timestamp": 1633806999268,
     "user": {
      "displayName": "mengjiao Liu",
      "photoUrl": "https://lh3.googleusercontent.com/a/default-user=s64",
      "userId": "16843114060278642698"
     },
     "user_tz": -480
    },
    "id": "tjwMM4ZwuaJq",
    "outputId": "bc359f80-5b2c-4624-d290-4eda4ef4e94d"
   },
   "outputs": [
    {
     "name": "stdout",
     "output_type": "stream",
     "text": [
      "CRISPR_OTE(\n",
      "  (lstm): LSTM(4, 16, batch_first=True, bidirectional=True)\n",
      "  (layerl): Sequential(\n",
      "    (0): Dropout(p=0.3, inplace=False)\n",
      "    (1): Linear(in_features=1088, out_features=80, bias=True)\n",
      "    (2): ReLU(inplace=True)\n",
      "  )\n",
      "  (conv1): Sequential(\n",
      "    (0): Conv1d(4, 80, kernel_size=(5,), stride=(1,))\n",
      "    (1): ReLU()\n",
      "    (2): AvgPool1d(kernel_size=(2,), stride=(2,), padding=(0,))\n",
      "  )\n",
      "  (layerc): Sequential(\n",
      "    (0): Dropout(p=0.3, inplace=False)\n",
      "    (1): Linear(in_features=1200, out_features=80, bias=True)\n",
      "    (2): ReLU(inplace=True)\n",
      "  )\n",
      "  (fc_Tm): Linear(in_features=1, out_features=30, bias=True)\n",
      "  (layer1): Sequential(\n",
      "    (0): Dropout(p=0.3, inplace=False)\n",
      "    (1): Linear(in_features=190, out_features=80, bias=True)\n",
      "    (2): ReLU(inplace=True)\n",
      "  )\n",
      "  (layer4): Sequential(\n",
      "    (0): Dropout(p=0.3, inplace=False)\n",
      "    (1): Linear(in_features=80, out_features=1, bias=True)\n",
      "  )\n",
      ")\n"
     ]
    }
   ],
   "source": [
    "# 网络结构\n",
    "class CRISPR_OTE(nn.Module):\n",
    "    def __init__(self):\n",
    "        super(CRISPR_OTE, self).__init__()\n",
    "        \n",
    "        self.lstm = nn.LSTM(4, hidden, layer, batch_first = True, bidirectional = True)\n",
    "        self.layerl = nn.Sequential(nn.Dropout(p=0.3), nn.Linear(34*2*hidden, 80), nn.ReLU(True)) \n",
    "        \n",
    "        self.conv1 = nn.Sequential(nn.Conv1d(in_channels = 4, out_channels = 80, kernel_size = 5), # stide 1\n",
    "                      nn.ReLU(),nn.AvgPool1d(kernel_size = 2)) # stride kernel_size\n",
    "        self.layerc = nn.Sequential(nn.Dropout(p=0.3), nn.Linear(80*15, 80), nn.ReLU(True)) # (34-5+1)/2\n",
    "\n",
    "        # CRISPR-OTE2.0\n",
    "#         self.fc_Tm = nn.Linear(5, 30)\n",
    "        \n",
    "        # CRISPR-OTE1.0\n",
    "        self.fc_Tm = nn.Linear(1, 30)   \n",
    "        \n",
    "        self.layer1 = nn.Sequential(nn.Dropout(p=0.3), nn.Linear(190, 80), nn.ReLU(True))\n",
    "        self.layer4 = nn.Sequential(nn.Dropout(p=0.3), nn.Linear(80, 1))\n",
    "\n",
    "\n",
    "    def forward(self, x, T, R):\n",
    "        x50 = x\n",
    "        \n",
    "        # LSTM\n",
    "        if  cuda.is_available():\n",
    "            h0 = torch.zeros(2*layer, x.size(0), hidden).cuda() \n",
    "            c0 = torch.zeros(2*layer, x.size(0), hidden).cuda()\n",
    "            indices34 = torch.linspace(6, 39, steps = 34).long().cuda()\n",
    "        else:\n",
    "            h0 = torch.zeros(2*layer, x.size(0), hidden)\n",
    "            c0 = torch.zeros(2*layer, x.size(0), hidden)\n",
    "            indices34 = torch.linspace(6, 39, steps = 34).long()\n",
    "\n",
    "        x34 = torch.index_select(x, 1, indices34, out=None)  # batch,34,4\n",
    "        out34, (hn34, cn34)  = self.lstm(x34, (h0, c0))  \n",
    "\n",
    "        x_l = out34 # batch,34,hidden*direction \n",
    "        x_l = x_l.contiguous().view(x_l.size(0), -1)   # batch,34*16*2 \n",
    "        x_l = self.layerl(x_l)   # batch,80   \n",
    "        \n",
    "        # CNN\n",
    "        x34 = x34.permute(0,2,1) # batch,4,34\n",
    "        x_c = self.conv1(x34)  # batch,80,(34-5+1)/2\n",
    "        x_c = x_c.view(x_c.size(0), -1)  # batch,1200,\n",
    "        x_c = self.layerc(x_c)  # batch,80\n",
    "        \n",
    "        # CRISPR-OTE2.0\n",
    "#         feas = torch.cat([T, R], dim = 1)\n",
    "    \n",
    "        # CRISPR-OTE1.0\n",
    "        feas = T\n",
    "        \n",
    "        feas = self.fc_Tm(feas)\n",
    "        x = torch.cat([x_l, x_c, feas], dim = 1) # batch,190      \n",
    "        x = self.layer1(x)\n",
    "        x = self.layer4(x)\n",
    "        return x\n",
    "\n",
    "\n",
    "if  cuda.is_available():\n",
    "    model = CRISPR_OTE().cuda()\n",
    "else:\n",
    "    model = CRISPR_OTE()\n",
    "print(model)"
   ]
  },
  {
   "cell_type": "code",
   "execution_count": 6,
   "metadata": {
    "id": "hM7U51jl3yGs"
   },
   "outputs": [],
   "source": [
    "# 测试\n",
    "def test(model, test_loader):\n",
    "    model.eval()\n",
    "    with torch.no_grad():\n",
    "        test_output = []\n",
    "        test_label = []\n",
    "        for k,(inputs, labels, T, R) in enumerate(test_loader):\n",
    "            length = len(test_loader)\n",
    "            if  cuda.is_available():\n",
    "                inputs = inputs.cuda()\n",
    "                T = T.cuda()\n",
    "                R = R.cuda()\n",
    "                outputs = model(inputs, T, R).cpu()\n",
    "            else:\n",
    "                outputs = model(inputs, T, R)\n",
    "\n",
    "#             r,p = stats.spearmanr(labels.detach().numpy(),outputs.detach().numpy())\n",
    "            test_output.extend(outputs.squeeze().detach().numpy())\n",
    "            test_label.extend(labels.squeeze().detach().numpy())\n",
    "\n",
    "        test_spear_r, test_spear_p = stats.spearmanr(test_output, test_label)\n",
    "        test_pear_r, test_pear_p = stats.pearsonr(test_output, test_label)\n",
    "        print(\"test_spr {:.4f}, test_pear_r {:.4f}\".format(test_spear_r, test_pear_r))\n",
    "\n",
    "    return(test_spear_r, test_pear_r)"
   ]
  },
  {
   "cell_type": "code",
   "execution_count": 7,
   "metadata": {
    "colab": {
     "base_uri": "https://localhost:8080/"
    },
    "executionInfo": {
     "elapsed": 351,
     "status": "ok",
     "timestamp": 1633810128313,
     "user": {
      "displayName": "mengjiao Liu",
      "photoUrl": "https://lh3.googleusercontent.com/a/default-user=s64",
      "userId": "16843114060278642698"
     },
     "user_tz": -480
    },
    "id": "A5B-flRCc-Rg",
    "outputId": "e1d2d4a1-24ea-4b9f-cd35-bac81db8f193"
   },
   "outputs": [
    {
     "name": "stdout",
     "output_type": "stream",
     "text": [
      "time 10770.481737613678, minloss 417.7994, spr 0.7656, pear 0.7747\n"
     ]
    }
   ],
   "source": [
    "checkpoint = torch.load(modelpth + modelname + '.pth', map_location='cpu')\n",
    "model.load_state_dict(checkpoint['model'])\n",
    "run_time = checkpoint['time']\n",
    "run_minloss = checkpoint['min_loss']\n",
    "run_spr = checkpoint['spr']\n",
    "run_pear = checkpoint['pear']\n",
    "print('time {}, minloss {:.4f}, spr {:.4f}, pear {:.4f}'.format(run_time, run_minloss, run_spr, run_pear))  "
   ]
  },
  {
   "cell_type": "code",
   "execution_count": 12,
   "metadata": {
    "colab": {
     "base_uri": "https://localhost:8080/"
    },
    "executionInfo": {
     "elapsed": 2025,
     "status": "ok",
     "timestamp": 1633810159536,
     "user": {
      "displayName": "mengjiao Liu",
      "photoUrl": "https://lh3.googleusercontent.com/a/default-user=s64",
      "userId": "16843114060278642698"
     },
     "user_tz": -480
    },
    "id": "baNiuLH13yG0",
    "outputId": "46eb9a10-6615-421d-ecee-09a176332bee"
   },
   "outputs": [
    {
     "ename": "RuntimeError",
     "evalue": "Numpy is not available",
     "output_type": "error",
     "traceback": [
      "\u001b[1;31m---------------------------------------------------------------------------\u001b[0m",
      "\u001b[1;31mRuntimeError\u001b[0m                              Traceback (most recent call last)",
      "\u001b[1;32m<ipython-input-12-4b27b3b2aa0d>\u001b[0m in \u001b[0;36m<module>\u001b[1;34m\u001b[0m\n\u001b[0;32m      1\u001b[0m \u001b[0mtest_loaderHT12\u001b[0m \u001b[1;33m=\u001b[0m \u001b[0mDataLoader\u001b[0m\u001b[1;33m(\u001b[0m\u001b[0mdataset\u001b[0m \u001b[1;33m=\u001b[0m \u001b[0mtestDatasetHT12\u001b[0m\u001b[1;33m,\u001b[0m\u001b[0mbatch_size\u001b[0m \u001b[1;33m=\u001b[0m \u001b[1;36m1292\u001b[0m\u001b[1;33m,\u001b[0m\u001b[0mnum_workers\u001b[0m \u001b[1;33m=\u001b[0m \u001b[1;36m0\u001b[0m\u001b[1;33m,\u001b[0m\u001b[0mpin_memory\u001b[0m \u001b[1;33m=\u001b[0m \u001b[1;32mTrue\u001b[0m\u001b[1;33m)\u001b[0m\u001b[1;33m\u001b[0m\u001b[1;33m\u001b[0m\u001b[0m\n\u001b[1;32m----> 2\u001b[1;33m \u001b[0m_\u001b[0m\u001b[1;33m,\u001b[0m \u001b[0m_\u001b[0m \u001b[1;33m=\u001b[0m \u001b[0mtest\u001b[0m\u001b[1;33m(\u001b[0m\u001b[0mmodel\u001b[0m\u001b[1;33m,\u001b[0m\u001b[0mtest_loaderHT12\u001b[0m\u001b[1;33m)\u001b[0m\u001b[1;33m\u001b[0m\u001b[1;33m\u001b[0m\u001b[0m\n\u001b[0m",
      "\u001b[1;32m<ipython-input-6-5dc1fac7ca9d>\u001b[0m in \u001b[0;36mtest\u001b[1;34m(model, test_loader)\u001b[0m\n\u001b[0;32m      5\u001b[0m         \u001b[0mtest_output\u001b[0m \u001b[1;33m=\u001b[0m \u001b[1;33m[\u001b[0m\u001b[1;33m]\u001b[0m\u001b[1;33m\u001b[0m\u001b[1;33m\u001b[0m\u001b[0m\n\u001b[0;32m      6\u001b[0m         \u001b[0mtest_label\u001b[0m \u001b[1;33m=\u001b[0m \u001b[1;33m[\u001b[0m\u001b[1;33m]\u001b[0m\u001b[1;33m\u001b[0m\u001b[1;33m\u001b[0m\u001b[0m\n\u001b[1;32m----> 7\u001b[1;33m         \u001b[1;32mfor\u001b[0m \u001b[0mk\u001b[0m\u001b[1;33m,\u001b[0m\u001b[1;33m(\u001b[0m\u001b[0minputs\u001b[0m\u001b[1;33m,\u001b[0m \u001b[0mlabels\u001b[0m\u001b[1;33m,\u001b[0m \u001b[0mT\u001b[0m\u001b[1;33m,\u001b[0m \u001b[0mR\u001b[0m\u001b[1;33m)\u001b[0m \u001b[1;32min\u001b[0m \u001b[0menumerate\u001b[0m\u001b[1;33m(\u001b[0m\u001b[0mtest_loader\u001b[0m\u001b[1;33m)\u001b[0m\u001b[1;33m:\u001b[0m\u001b[1;33m\u001b[0m\u001b[1;33m\u001b[0m\u001b[0m\n\u001b[0m\u001b[0;32m      8\u001b[0m             \u001b[0mlength\u001b[0m \u001b[1;33m=\u001b[0m \u001b[0mlen\u001b[0m\u001b[1;33m(\u001b[0m\u001b[0mtest_loader\u001b[0m\u001b[1;33m)\u001b[0m\u001b[1;33m\u001b[0m\u001b[1;33m\u001b[0m\u001b[0m\n\u001b[0;32m      9\u001b[0m             \u001b[1;32mif\u001b[0m  \u001b[0mcuda\u001b[0m\u001b[1;33m.\u001b[0m\u001b[0mis_available\u001b[0m\u001b[1;33m(\u001b[0m\u001b[1;33m)\u001b[0m\u001b[1;33m:\u001b[0m\u001b[1;33m\u001b[0m\u001b[1;33m\u001b[0m\u001b[0m\n",
      "\u001b[1;32mD:\\ProgramData\\Anaconda3\\envs\\pytorch\\lib\\site-packages\\torch\\utils\\data\\dataloader.py\u001b[0m in \u001b[0;36m__next__\u001b[1;34m(self)\u001b[0m\n\u001b[0;32m    519\u001b[0m             \u001b[1;32mif\u001b[0m \u001b[0mself\u001b[0m\u001b[1;33m.\u001b[0m\u001b[0m_sampler_iter\u001b[0m \u001b[1;32mis\u001b[0m \u001b[1;32mNone\u001b[0m\u001b[1;33m:\u001b[0m\u001b[1;33m\u001b[0m\u001b[1;33m\u001b[0m\u001b[0m\n\u001b[0;32m    520\u001b[0m                 \u001b[0mself\u001b[0m\u001b[1;33m.\u001b[0m\u001b[0m_reset\u001b[0m\u001b[1;33m(\u001b[0m\u001b[1;33m)\u001b[0m\u001b[1;33m\u001b[0m\u001b[1;33m\u001b[0m\u001b[0m\n\u001b[1;32m--> 521\u001b[1;33m             \u001b[0mdata\u001b[0m \u001b[1;33m=\u001b[0m \u001b[0mself\u001b[0m\u001b[1;33m.\u001b[0m\u001b[0m_next_data\u001b[0m\u001b[1;33m(\u001b[0m\u001b[1;33m)\u001b[0m\u001b[1;33m\u001b[0m\u001b[1;33m\u001b[0m\u001b[0m\n\u001b[0m\u001b[0;32m    522\u001b[0m             \u001b[0mself\u001b[0m\u001b[1;33m.\u001b[0m\u001b[0m_num_yielded\u001b[0m \u001b[1;33m+=\u001b[0m \u001b[1;36m1\u001b[0m\u001b[1;33m\u001b[0m\u001b[1;33m\u001b[0m\u001b[0m\n\u001b[0;32m    523\u001b[0m             \u001b[1;32mif\u001b[0m \u001b[0mself\u001b[0m\u001b[1;33m.\u001b[0m\u001b[0m_dataset_kind\u001b[0m \u001b[1;33m==\u001b[0m \u001b[0m_DatasetKind\u001b[0m\u001b[1;33m.\u001b[0m\u001b[0mIterable\u001b[0m \u001b[1;32mand\u001b[0m\u001b[0;31m \u001b[0m\u001b[0;31m\\\u001b[0m\u001b[1;33m\u001b[0m\u001b[1;33m\u001b[0m\u001b[0m\n",
      "\u001b[1;32mD:\\ProgramData\\Anaconda3\\envs\\pytorch\\lib\\site-packages\\torch\\utils\\data\\dataloader.py\u001b[0m in \u001b[0;36m_next_data\u001b[1;34m(self)\u001b[0m\n\u001b[0;32m    559\u001b[0m     \u001b[1;32mdef\u001b[0m \u001b[0m_next_data\u001b[0m\u001b[1;33m(\u001b[0m\u001b[0mself\u001b[0m\u001b[1;33m)\u001b[0m\u001b[1;33m:\u001b[0m\u001b[1;33m\u001b[0m\u001b[1;33m\u001b[0m\u001b[0m\n\u001b[0;32m    560\u001b[0m         \u001b[0mindex\u001b[0m \u001b[1;33m=\u001b[0m \u001b[0mself\u001b[0m\u001b[1;33m.\u001b[0m\u001b[0m_next_index\u001b[0m\u001b[1;33m(\u001b[0m\u001b[1;33m)\u001b[0m  \u001b[1;31m# may raise StopIteration\u001b[0m\u001b[1;33m\u001b[0m\u001b[1;33m\u001b[0m\u001b[0m\n\u001b[1;32m--> 561\u001b[1;33m         \u001b[0mdata\u001b[0m \u001b[1;33m=\u001b[0m \u001b[0mself\u001b[0m\u001b[1;33m.\u001b[0m\u001b[0m_dataset_fetcher\u001b[0m\u001b[1;33m.\u001b[0m\u001b[0mfetch\u001b[0m\u001b[1;33m(\u001b[0m\u001b[0mindex\u001b[0m\u001b[1;33m)\u001b[0m  \u001b[1;31m# may raise StopIteration\u001b[0m\u001b[1;33m\u001b[0m\u001b[1;33m\u001b[0m\u001b[0m\n\u001b[0m\u001b[0;32m    562\u001b[0m         \u001b[1;32mif\u001b[0m \u001b[0mself\u001b[0m\u001b[1;33m.\u001b[0m\u001b[0m_pin_memory\u001b[0m\u001b[1;33m:\u001b[0m\u001b[1;33m\u001b[0m\u001b[1;33m\u001b[0m\u001b[0m\n\u001b[0;32m    563\u001b[0m             \u001b[0mdata\u001b[0m \u001b[1;33m=\u001b[0m \u001b[0m_utils\u001b[0m\u001b[1;33m.\u001b[0m\u001b[0mpin_memory\u001b[0m\u001b[1;33m.\u001b[0m\u001b[0mpin_memory\u001b[0m\u001b[1;33m(\u001b[0m\u001b[0mdata\u001b[0m\u001b[1;33m)\u001b[0m\u001b[1;33m\u001b[0m\u001b[1;33m\u001b[0m\u001b[0m\n",
      "\u001b[1;32mD:\\ProgramData\\Anaconda3\\envs\\pytorch\\lib\\site-packages\\torch\\utils\\data\\_utils\\fetch.py\u001b[0m in \u001b[0;36mfetch\u001b[1;34m(self, possibly_batched_index)\u001b[0m\n\u001b[0;32m     47\u001b[0m     \u001b[1;32mdef\u001b[0m \u001b[0mfetch\u001b[0m\u001b[1;33m(\u001b[0m\u001b[0mself\u001b[0m\u001b[1;33m,\u001b[0m \u001b[0mpossibly_batched_index\u001b[0m\u001b[1;33m)\u001b[0m\u001b[1;33m:\u001b[0m\u001b[1;33m\u001b[0m\u001b[1;33m\u001b[0m\u001b[0m\n\u001b[0;32m     48\u001b[0m         \u001b[1;32mif\u001b[0m \u001b[0mself\u001b[0m\u001b[1;33m.\u001b[0m\u001b[0mauto_collation\u001b[0m\u001b[1;33m:\u001b[0m\u001b[1;33m\u001b[0m\u001b[1;33m\u001b[0m\u001b[0m\n\u001b[1;32m---> 49\u001b[1;33m             \u001b[0mdata\u001b[0m \u001b[1;33m=\u001b[0m \u001b[1;33m[\u001b[0m\u001b[0mself\u001b[0m\u001b[1;33m.\u001b[0m\u001b[0mdataset\u001b[0m\u001b[1;33m[\u001b[0m\u001b[0midx\u001b[0m\u001b[1;33m]\u001b[0m \u001b[1;32mfor\u001b[0m \u001b[0midx\u001b[0m \u001b[1;32min\u001b[0m \u001b[0mpossibly_batched_index\u001b[0m\u001b[1;33m]\u001b[0m\u001b[1;33m\u001b[0m\u001b[1;33m\u001b[0m\u001b[0m\n\u001b[0m\u001b[0;32m     50\u001b[0m         \u001b[1;32melse\u001b[0m\u001b[1;33m:\u001b[0m\u001b[1;33m\u001b[0m\u001b[1;33m\u001b[0m\u001b[0m\n\u001b[0;32m     51\u001b[0m             \u001b[0mdata\u001b[0m \u001b[1;33m=\u001b[0m \u001b[0mself\u001b[0m\u001b[1;33m.\u001b[0m\u001b[0mdataset\u001b[0m\u001b[1;33m[\u001b[0m\u001b[0mpossibly_batched_index\u001b[0m\u001b[1;33m]\u001b[0m\u001b[1;33m\u001b[0m\u001b[1;33m\u001b[0m\u001b[0m\n",
      "\u001b[1;32mD:\\ProgramData\\Anaconda3\\envs\\pytorch\\lib\\site-packages\\torch\\utils\\data\\_utils\\fetch.py\u001b[0m in \u001b[0;36m<listcomp>\u001b[1;34m(.0)\u001b[0m\n\u001b[0;32m     47\u001b[0m     \u001b[1;32mdef\u001b[0m \u001b[0mfetch\u001b[0m\u001b[1;33m(\u001b[0m\u001b[0mself\u001b[0m\u001b[1;33m,\u001b[0m \u001b[0mpossibly_batched_index\u001b[0m\u001b[1;33m)\u001b[0m\u001b[1;33m:\u001b[0m\u001b[1;33m\u001b[0m\u001b[1;33m\u001b[0m\u001b[0m\n\u001b[0;32m     48\u001b[0m         \u001b[1;32mif\u001b[0m \u001b[0mself\u001b[0m\u001b[1;33m.\u001b[0m\u001b[0mauto_collation\u001b[0m\u001b[1;33m:\u001b[0m\u001b[1;33m\u001b[0m\u001b[1;33m\u001b[0m\u001b[0m\n\u001b[1;32m---> 49\u001b[1;33m             \u001b[0mdata\u001b[0m \u001b[1;33m=\u001b[0m \u001b[1;33m[\u001b[0m\u001b[0mself\u001b[0m\u001b[1;33m.\u001b[0m\u001b[0mdataset\u001b[0m\u001b[1;33m[\u001b[0m\u001b[0midx\u001b[0m\u001b[1;33m]\u001b[0m \u001b[1;32mfor\u001b[0m \u001b[0midx\u001b[0m \u001b[1;32min\u001b[0m \u001b[0mpossibly_batched_index\u001b[0m\u001b[1;33m]\u001b[0m\u001b[1;33m\u001b[0m\u001b[1;33m\u001b[0m\u001b[0m\n\u001b[0m\u001b[0;32m     50\u001b[0m         \u001b[1;32melse\u001b[0m\u001b[1;33m:\u001b[0m\u001b[1;33m\u001b[0m\u001b[1;33m\u001b[0m\u001b[0m\n\u001b[0;32m     51\u001b[0m             \u001b[0mdata\u001b[0m \u001b[1;33m=\u001b[0m \u001b[0mself\u001b[0m\u001b[1;33m.\u001b[0m\u001b[0mdataset\u001b[0m\u001b[1;33m[\u001b[0m\u001b[0mpossibly_batched_index\u001b[0m\u001b[1;33m]\u001b[0m\u001b[1;33m\u001b[0m\u001b[1;33m\u001b[0m\u001b[0m\n",
      "\u001b[1;32m<ipython-input-3-acc72741a4fc>\u001b[0m in \u001b[0;36m__getitem__\u001b[1;34m(self, index)\u001b[0m\n\u001b[0;32m     22\u001b[0m \u001b[1;33m\u001b[0m\u001b[0m\n\u001b[0;32m     23\u001b[0m     \u001b[1;32mdef\u001b[0m \u001b[0m__getitem__\u001b[0m\u001b[1;33m(\u001b[0m\u001b[0mself\u001b[0m\u001b[1;33m,\u001b[0m \u001b[0mindex\u001b[0m\u001b[1;33m)\u001b[0m\u001b[1;33m:\u001b[0m\u001b[1;33m\u001b[0m\u001b[1;33m\u001b[0m\u001b[0m\n\u001b[1;32m---> 24\u001b[1;33m         \u001b[0mX\u001b[0m \u001b[1;33m=\u001b[0m \u001b[0mtorch\u001b[0m\u001b[1;33m.\u001b[0m\u001b[0mfrom_numpy\u001b[0m\u001b[1;33m(\u001b[0m\u001b[0mself\u001b[0m\u001b[1;33m.\u001b[0m\u001b[0mseqs\u001b[0m\u001b[1;33m)\u001b[0m\u001b[1;33m.\u001b[0m\u001b[0mfloat\u001b[0m\u001b[1;33m(\u001b[0m\u001b[1;33m)\u001b[0m\u001b[1;33m\u001b[0m\u001b[1;33m\u001b[0m\u001b[0m\n\u001b[0m\u001b[0;32m     25\u001b[0m         \u001b[0mY\u001b[0m \u001b[1;33m=\u001b[0m \u001b[0mtorch\u001b[0m\u001b[1;33m.\u001b[0m\u001b[0mfrom_numpy\u001b[0m\u001b[1;33m(\u001b[0m\u001b[0mself\u001b[0m\u001b[1;33m.\u001b[0m\u001b[0mIFs\u001b[0m\u001b[1;33m)\u001b[0m\u001b[1;33m.\u001b[0m\u001b[0mfloat\u001b[0m\u001b[1;33m(\u001b[0m\u001b[1;33m)\u001b[0m\u001b[1;33m\u001b[0m\u001b[1;33m\u001b[0m\u001b[0m\n\u001b[0;32m     26\u001b[0m         \u001b[0mT\u001b[0m \u001b[1;33m=\u001b[0m \u001b[0mtorch\u001b[0m\u001b[1;33m.\u001b[0m\u001b[0mfrom_numpy\u001b[0m\u001b[1;33m(\u001b[0m\u001b[0mself\u001b[0m\u001b[1;33m.\u001b[0m\u001b[0mTms\u001b[0m\u001b[1;33m)\u001b[0m\u001b[1;33m.\u001b[0m\u001b[0mfloat\u001b[0m\u001b[1;33m(\u001b[0m\u001b[1;33m)\u001b[0m\u001b[1;33m\u001b[0m\u001b[1;33m\u001b[0m\u001b[0m\n",
      "\u001b[1;31mRuntimeError\u001b[0m: Numpy is not available"
     ]
    }
   ],
   "source": [
    "test_loaderHT12 = DataLoader(dataset = testDatasetHT12,batch_size = 1292,num_workers = 0,pin_memory = True)\n",
    "_, _ = test(model,test_loaderHT12)"
   ]
  },
  {
   "cell_type": "code",
   "execution_count": null,
   "metadata": {
    "colab": {
     "base_uri": "https://localhost:8080/"
    },
    "executionInfo": {
     "elapsed": 5157,
     "status": "ok",
     "timestamp": 1633810164686,
     "user": {
      "displayName": "mengjiao Liu",
      "photoUrl": "https://lh3.googleusercontent.com/a/default-user=s64",
      "userId": "16843114060278642698"
     },
     "user_tz": -480
    },
    "id": "1VNnuoZJgy4q",
    "outputId": "67e8501f-53c5-466e-eec9-5eabfa4eff28"
   },
   "outputs": [],
   "source": [
    "test_loaderHT2 = DataLoader(dataset = testDatasetHT2,batch_size = 2963,num_workers = 0,pin_memory = True)\n",
    "_, _ = test(model,test_loaderHT2)"
   ]
  },
  {
   "cell_type": "code",
   "execution_count": null,
   "metadata": {
    "colab": {
     "base_uri": "https://localhost:8080/"
    },
    "executionInfo": {
     "elapsed": 1823,
     "status": "ok",
     "timestamp": 1633810166504,
     "user": {
      "displayName": "mengjiao Liu",
      "photoUrl": "https://lh3.googleusercontent.com/a/default-user=s64",
      "userId": "16843114060278642698"
     },
     "user_tz": -480
    },
    "id": "dvE1RPaA3yHI",
    "outputId": "1329bf0c-7e25-4dde-e5c1-2aa49f7cb128"
   },
   "outputs": [],
   "source": [
    "test_loaderHT3 = DataLoader(dataset = testDatasetHT3,batch_size = 1251,num_workers = 0,pin_memory = True)\n",
    "_, _ = test(model,test_loaderHT3)"
   ]
  },
  {
   "cell_type": "code",
   "execution_count": null,
   "metadata": {},
   "outputs": [],
   "source": []
  }
 ],
 "metadata": {
  "accelerator": "GPU",
  "colab": {
   "collapsed_sections": [],
   "machine_shape": "hm",
   "name": "0902LSTM_CNN_Tm+44_fuben1.ipynb",
   "provenance": []
  },
  "kernelspec": {
   "display_name": "Python 3",
   "language": "python",
   "name": "python3"
  },
  "language_info": {
   "codemirror_mode": {
    "name": "ipython",
    "version": 3
   },
   "file_extension": ".py",
   "mimetype": "text/x-python",
   "name": "python",
   "nbconvert_exporter": "python",
   "pygments_lexer": "ipython3",
   "version": "3.6.10"
  }
 },
 "nbformat": 4,
 "nbformat_minor": 1
}
