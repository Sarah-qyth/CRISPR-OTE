{
 "cells": [
  {
   "cell_type": "code",
   "execution_count": 4,
   "metadata": {
    "executionInfo": {
     "elapsed": 868,
     "status": "ok",
     "timestamp": 1617072436680,
     "user": {
      "displayName": "mengjiao Liu",
      "photoUrl": "",
      "userId": "16843114060278642698"
     },
     "user_tz": -480
    },
    "id": "_ncWWOG43yFx",
    "scrolled": true
   },
   "outputs": [],
   "source": [
    "import torch\n",
    "import torch.nn as nn\n",
    "import pandas as pd\n",
    "import numpy as np\n",
    "from torch.utils.data import Dataset,DataLoader\n",
    "from scipy import stats\n",
    "from torch import cuda"
   ]
  },
  {
   "cell_type": "code",
   "execution_count": 31,
   "metadata": {
    "executionInfo": {
     "elapsed": 901,
     "status": "ok",
     "timestamp": 1617072112112,
     "user": {
      "displayName": "mengjiao Liu",
      "photoUrl": "",
      "userId": "16843114060278642698"
     },
     "user_tz": -480
    },
    "id": "wE2DjHrd3yF6"
   },
   "outputs": [],
   "source": [
    "hidden = 16\n",
    "layer = 1\n",
    "modelpth = './model/Cas9/' \n",
    "modelname = 'CRISPR-OTE1.0'  #CRISPR-OTE2.0"
   ]
  },
  {
   "cell_type": "code",
   "execution_count": 6,
   "metadata": {
    "executionInfo": {
     "elapsed": 1013,
     "status": "ok",
     "timestamp": 1617072440377,
     "user": {
      "displayName": "mengjiao Liu",
      "photoUrl": "",
      "userId": "16843114060278642698"
     },
     "user_tz": -480
    },
    "id": "z9aRYyDM3yF-"
   },
   "outputs": [],
   "source": [
    "class Dataset(Dataset):\n",
    "    def __init__(self, csv_file = r\"./data/csv/Hela.csv\", \n",
    "                 nrows = 8101, seqs_file = r\"./data/SEQs/Hela/SEQs.npy\", \n",
    "                 feas_file = r\"./data/new_fea/Hela_fea_datas.csv\"):\n",
    "        \n",
    "        if csv_file == r\"./data/csv/elegans.csv\":\n",
    "            self.df = pd.read_csv(csv_file, sep = \",\", header = 0, usecols = [7-1], nrows = nrows,  \n",
    "                            names = ['Indel freqeuncy'], dtype = np.float64) \n",
    "        else:\n",
    "            self.df = pd.read_csv(csv_file, sep = \",\", header = 0, usecols = [8-1], nrows = nrows,  \n",
    "                                    names = ['Indel freqeuncy'], dtype = np.float64) \n",
    "        \n",
    "        self.seqs = np.load(seqs_file) # batch,34,4\n",
    "        print(self.seqs.shape)\n",
    "        self.feas = pd.read_csv(feas_file, sep = \",\", header = 0, index_col=0, nrows = nrows, dtype = np.float64) # batch,44\n",
    "        self.new_feas = self.feas.iloc[:,[40, 41, 42, 43]].values  # 4RNAfold\n",
    "        print(self.new_feas.shape)\n",
    "        self.Tms = self.feas.iloc[:, 0].values  # Tm34  \n",
    "        self.IFs = self.df['Indel freqeuncy'].values \n",
    "        self.IFs = self.IFs.reshape(-1, 1) \n",
    "        self.Tms = self.Tms.reshape(-1, 1) \n",
    "    \n",
    "    def __len__(self):\n",
    "            return len(self.seqs)\n",
    "\n",
    "    def __getitem__(self, index):\n",
    "        X = torch.from_numpy(self.seqs).float()\n",
    "        Y = torch.from_numpy(self.IFs).float()\n",
    "        T = torch.from_numpy(self.Tms).float()\n",
    "        R = torch.from_numpy(self.new_feas).float()\n",
    "        return X[index],Y[index],T[index],R[index]"
   ]
  },
  {
   "cell_type": "code",
   "execution_count": 7,
   "metadata": {
    "colab": {
     "base_uri": "https://localhost:8080/"
    },
    "executionInfo": {
     "elapsed": 862,
     "status": "ok",
     "timestamp": 1617072445633,
     "user": {
      "displayName": "mengjiao Liu",
      "photoUrl": "",
      "userId": "16843114060278642698"
     },
     "user_tz": -480
    },
    "id": "E9WV8kgHInUA",
    "outputId": "1c2b3bcb-35c7-44b5-d59a-47d4b0e767a8"
   },
   "outputs": [
    {
     "name": "stdout",
     "output_type": "stream",
     "text": [
      "(4239, 34, 4)\n",
      "(4239, 4)\n",
      "(72, 34, 4)\n",
      "(72, 4)\n",
      "(111, 34, 4)\n",
      "(111, 4)\n",
      "(102, 34, 4)\n",
      "(102, 4)\n",
      "(50, 34, 4)\n",
      "(50, 4)\n"
     ]
    }
   ],
   "source": [
    "testDatasetHct116_lib1 = Dataset(csv_file = r\"./data/csv/Hct116_lib1.csv\", nrows = 4239, \n",
    "              seqs_file = r\"./data/SEQs/Hct116_lib1/SEQs.npy\", feas_file = r\"./data/new_fea/Hct116_lib1_fea_datas.csv\")\n",
    "testDatasetCiona = Dataset(csv_file = r\"./data/csv/Ciona.csv\", nrows = 72, \n",
    "              seqs_file = r\"./data/SEQs/Ciona/SEQs.npy\", feas_file = r\"./data/new_fea/Ciona_fea_datas.csv\")\n",
    "testDatasetZ_fish_GZ = Dataset(csv_file = r\"./data/csv/Z_fish_GZ.csv\", nrows = 111, \n",
    "              seqs_file = r\"./data/SEQs/Z_fish_GZ/SEQs.npy\", feas_file = r\"./data/new_fea/Z_fish_GZ_fea_datas.csv\")\n",
    "testDatasetZ_fish_VZ = Dataset(csv_file = r\"./data/csv/Z_fish_VZ.csv\", nrows = 102, \n",
    "              seqs_file = r\"./data/SEQs/Z_fish_VZ/SEQs.npy\", feas_file = r\"./data/new_fea/Z_fish_VZ_fea_datas.csv\")\n",
    "testDatasetElegans = Dataset(csv_file = r\"./data/csv/elegans.csv\", nrows = 50, \n",
    "              seqs_file = r\"./data/SEQs/elegans/SEQs.npy\", feas_file = r\"./data/new_fea/elegans_fea_datas.csv\")"
   ]
  },
  {
   "cell_type": "code",
   "execution_count": 32,
   "metadata": {
    "colab": {
     "base_uri": "https://localhost:8080/"
    },
    "executionInfo": {
     "elapsed": 930,
     "status": "ok",
     "timestamp": 1617072271665,
     "user": {
      "displayName": "mengjiao Liu",
      "photoUrl": "",
      "userId": "16843114060278642698"
     },
     "user_tz": -480
    },
    "id": "e4DgQsFHhObW",
    "outputId": "73a6e219-85f6-442e-bb17-e85dca217001"
   },
   "outputs": [
    {
     "name": "stdout",
     "output_type": "stream",
     "text": [
      "CRISPR_OTE(\n",
      "  (lstm): LSTM(4, 16, batch_first=True, bidirectional=True)\n",
      "  (layerl): Sequential(\n",
      "    (0): Dropout(p=0.3, inplace=False)\n",
      "    (1): Linear(in_features=1088, out_features=80, bias=True)\n",
      "    (2): ReLU(inplace=True)\n",
      "  )\n",
      "  (conv1): Sequential(\n",
      "    (0): Conv1d(4, 80, kernel_size=(5,), stride=(1,))\n",
      "    (1): ReLU()\n",
      "    (2): AvgPool1d(kernel_size=(2,), stride=(2,), padding=(0,))\n",
      "  )\n",
      "  (layerc): Sequential(\n",
      "    (0): Dropout(p=0.3, inplace=False)\n",
      "    (1): Linear(in_features=1200, out_features=80, bias=True)\n",
      "    (2): ReLU(inplace=True)\n",
      "  )\n",
      "  (fc_Tm): Linear(in_features=1, out_features=30, bias=True)\n",
      "  (layer1_ft): Sequential(\n",
      "    (0): Dropout(p=0.3, inplace=False)\n",
      "    (1): Linear(in_features=190, out_features=80, bias=True)\n",
      "    (2): ReLU(inplace=True)\n",
      "  )\n",
      "  (layer4_ft): Sequential(\n",
      "    (0): Dropout(p=0.3, inplace=False)\n",
      "    (1): Linear(in_features=80, out_features=1, bias=True)\n",
      "  )\n",
      ")\n"
     ]
    }
   ],
   "source": [
    "class CRISPR_OTE(nn.Module):\n",
    "    def __init__(self):\n",
    "        super(CRISPR_OTE, self).__init__()\n",
    "        \n",
    "        self.lstm = nn.LSTM(4, hidden, layer, batch_first = True, bidirectional = True)\n",
    "        self.layerl = nn.Sequential(nn.Dropout(p=0.3), nn.Linear(34*2*hidden, 80), nn.ReLU(True)) \n",
    "        \n",
    "        self.conv1 = nn.Sequential(nn.Conv1d(in_channels = 4, out_channels = 80, kernel_size = 5), # stide 1\n",
    "                      nn.ReLU(),nn.AvgPool1d(kernel_size = 2)) # stride kernel_size\n",
    "        self.layerc = nn.Sequential(nn.Dropout(p=0.3), nn.Linear(80*15, 80), nn.ReLU(True)) # (34-5+1)/2\n",
    "        \n",
    "        # CRISPR-OTE2.0\n",
    "#         self.fc_Tm = nn.Linear(1, 30)\n",
    "#         self.fea = nn.Linear(4, 30)\n",
    "#         self.layer1_ft = nn.Sequential(nn.Dropout(p=0.3), nn.Linear(220, 80), nn.ReLU(True))\n",
    "        \n",
    "        # CRISPR-OTE1.0\n",
    "        self.fc_Tm = nn.Linear(1, 30)\n",
    "        self.layer1_ft = nn.Sequential(nn.Dropout(p=0.3), nn.Linear(190, 80), nn.ReLU(True))\n",
    "\n",
    "        self.layer4_ft = nn.Sequential(nn.Dropout(p=0.3), nn.Linear(80, 1))\n",
    "\n",
    "\n",
    "    def forward(self, x, T, R):\n",
    "        x34 = x\n",
    "        \n",
    "        # LSTM\n",
    "        if  cuda.is_available():\n",
    "            h0 = torch.zeros(2*layer, x.size(0), hidden).cuda() \n",
    "            c0 = torch.zeros(2*layer, x.size(0), hidden).cuda()\n",
    "        else:\n",
    "            h0 = torch.zeros(2*layer, x.size(0), hidden)\n",
    "            c0 = torch.zeros(2*layer, x.size(0), hidden)\n",
    "       \n",
    "        out34, (hn34, cn34)  = self.lstm(x34, (h0, c0))  \n",
    "\n",
    "        x_l = out34 # batch,34,hidden*direction \n",
    "        x_l = x_l.contiguous().view(x_l.size(0), -1) # batch,34*16*2 \n",
    "        x_l = self.layerl(x_l) # batch,80    \n",
    "        \n",
    "        # CNN\n",
    "        x34 = x34.permute(0,2,1) # batch,4,34\n",
    "        x_c = self.conv1(x34)  # batch,80,(34-5+1)/2\n",
    "        x_c = x_c.view(x_c.size(0), -1) # batch,1200,\n",
    "        x_c = self.layerc(x_c)  # batch,80\n",
    "\n",
    "        T = self.fc_Tm(T)\n",
    "        \n",
    "        # CRISPR-OTE2.0\n",
    "#         R = self.fea(R)\n",
    "#         x = torch.cat([x_l, x_c, T, R], dim = 1) # batch,220  \n",
    "        \n",
    "        # CRISPR-OTE1.0\n",
    "        x = torch.cat([x_l, x_c, T], dim = 1) # batch,190 \n",
    "     \n",
    "        x = self.layer1_ft(x)\n",
    "        x = self.layer4_ft(x)\n",
    "        return x\n",
    "\n",
    "\n",
    "if  cuda.is_available():\n",
    "    model = CRISPR_OTE().cuda()\n",
    "else:\n",
    "    model = CRISPR_OTE()\n",
    "print(model)"
   ]
  },
  {
   "cell_type": "code",
   "execution_count": 24,
   "metadata": {
    "id": "hM7U51jl3yGs"
   },
   "outputs": [],
   "source": [
    "def test(model, test_loader):\n",
    "    model.eval()\n",
    "    with torch.no_grad():\n",
    "        test_output = []\n",
    "        test_label = []\n",
    "        for k,(inputs, labels, T, R) in enumerate(test_loader):\n",
    "            length = len(test_loader)\n",
    "            if  cuda.is_available():\n",
    "                inputs = inputs.cuda()\n",
    "                T = T.cuda()\n",
    "                R = R.cuda()\n",
    "                outputs = model(inputs, T, R).cpu()\n",
    "            else:\n",
    "                outputs = model(inputs, T, R)\n",
    "\n",
    "#             r,p = stats.spearmanr(labels.detach().numpy(),outputs.detach().numpy())\n",
    "            test_output.extend(outputs.squeeze().detach().numpy())\n",
    "            test_label.extend(labels.squeeze().detach().numpy())\n",
    "\n",
    "        test_spear_r, _ = stats.spearmanr(test_output, test_label)\n",
    "        test_pear_r, _ = stats.pearsonr(test_output, test_label)\n",
    "        print(\"test_spr {:.4f}, test_pear {:.4f}\".format(test_spear_r, test_pear_r))\n",
    "\n",
    "    return(test_spear_r, test_pear_r)"
   ]
  },
  {
   "cell_type": "code",
   "execution_count": 33,
   "metadata": {
    "colab": {
     "base_uri": "https://localhost:8080/",
     "height": 35
    },
    "executionInfo": {
     "elapsed": 3887877,
     "status": "ok",
     "timestamp": 1601830631539,
     "user": {
      "displayName": "mengjiao Liu",
      "photoUrl": "",
      "userId": "16843114060278642698"
     },
     "user_tz": -480
    },
    "id": "A5B-flRCc-Rg",
    "outputId": "d8e83b9a-b0e2-4f58-fdbe-385a73c2ef47"
   },
   "outputs": [
    {
     "name": "stdout",
     "output_type": "stream",
     "text": [
      "time 3341.0395591259003, spr 0.4562, pear 0.4555\n"
     ]
    }
   ],
   "source": [
    "checkpoint = torch.load(modelpth + modelname + '.pth')  #, map_location='cpu'\n",
    "model.load_state_dict(checkpoint['model'])\n",
    "run_time = checkpoint['time']\n",
    "run_spr = checkpoint['spr']\n",
    "run_pear = checkpoint['pear']\n",
    "print('time {}, spr {:.4f}, pear {:.4f}'.format(run_time, run_spr, run_pear))  "
   ]
  },
  {
   "cell_type": "code",
   "execution_count": 34,
   "metadata": {
    "colab": {
     "base_uri": "https://localhost:8080/",
     "height": 71
    },
    "executionInfo": {
     "elapsed": 3895668,
     "status": "ok",
     "timestamp": 1601830639333,
     "user": {
      "displayName": "mengjiao Liu",
      "photoUrl": "",
      "userId": "16843114060278642698"
     },
     "user_tz": -480
    },
    "id": "GXd7uH1_U8vH",
    "outputId": "6c850dda-62df-405e-ea95-347009631caa"
   },
   "outputs": [
    {
     "name": "stdout",
     "output_type": "stream",
     "text": [
      "test_spr 0.5154, test_pear 0.5084\n"
     ]
    }
   ],
   "source": [
    "test_loaderHct116_lib1 = DataLoader(dataset = testDatasetHct116_lib1,batch_size = 4239,num_workers = 4,pin_memory = True)\n",
    "_, _ = test(model,test_loaderHct116_lib1)"
   ]
  },
  {
   "cell_type": "code",
   "execution_count": 35,
   "metadata": {
    "colab": {
     "base_uri": "https://localhost:8080/",
     "height": 71
    },
    "executionInfo": {
     "elapsed": 3895987,
     "status": "ok",
     "timestamp": 1601830639655,
     "user": {
      "displayName": "mengjiao Liu",
      "photoUrl": "",
      "userId": "16843114060278642698"
     },
     "user_tz": -480
    },
    "id": "pGjvi2lXU9SV",
    "outputId": "42fda361-8a3e-44c4-9576-98c4602a35e8"
   },
   "outputs": [
    {
     "name": "stdout",
     "output_type": "stream",
     "text": [
      "test_spr 0.4126, test_pear 0.4273\n"
     ]
    }
   ],
   "source": [
    "test_loaderCiona = DataLoader(dataset = testDatasetCiona,batch_size = 72,num_workers = 4,pin_memory = True)\n",
    "_, _ = test(model,test_loaderCiona)"
   ]
  },
  {
   "cell_type": "code",
   "execution_count": 36,
   "metadata": {},
   "outputs": [
    {
     "name": "stdout",
     "output_type": "stream",
     "text": [
      "test_spr 0.4181, test_pear 0.3835\n"
     ]
    }
   ],
   "source": [
    "test_loaderZ_fish_GZ = DataLoader(dataset = testDatasetZ_fish_GZ,batch_size = 111,num_workers = 4,pin_memory = True)\n",
    "_, _ = test(model,test_loaderZ_fish_GZ)"
   ]
  },
  {
   "cell_type": "code",
   "execution_count": 37,
   "metadata": {},
   "outputs": [
    {
     "name": "stdout",
     "output_type": "stream",
     "text": [
      "test_spr 0.2945, test_pear 0.2732\n"
     ]
    }
   ],
   "source": [
    "test_loaderZ_fish_VZ = DataLoader(dataset = testDatasetZ_fish_VZ,batch_size = 102,num_workers = 4,pin_memory = True)\n",
    "_, _ = test(model,test_loaderZ_fish_VZ)"
   ]
  },
  {
   "cell_type": "code",
   "execution_count": 38,
   "metadata": {
    "id": "_YUEtXOGakNd"
   },
   "outputs": [
    {
     "name": "stdout",
     "output_type": "stream",
     "text": [
      "test_spr 0.4699, test_pear 0.3746\n"
     ]
    }
   ],
   "source": [
    "test_loaderElegans = DataLoader(dataset = testDatasetElegans,batch_size = 50,num_workers = 4,pin_memory = True)\n",
    "_, _ = test(model,test_loaderElegans)"
   ]
  },
  {
   "cell_type": "code",
   "execution_count": null,
   "metadata": {},
   "outputs": [],
   "source": []
  }
 ],
 "metadata": {
  "accelerator": "GPU",
  "colab": {
   "collapsed_sections": [],
   "machine_shape": "hm",
   "name": "0918Cas_FT_LSTM34bp_CNN_Tm_fuben.ipynb",
   "provenance": []
  },
  "kernelspec": {
   "display_name": "Python 3",
   "language": "python",
   "name": "python3"
  },
  "language_info": {
   "codemirror_mode": {
    "name": "ipython",
    "version": 3
   },
   "file_extension": ".py",
   "mimetype": "text/x-python",
   "name": "python",
   "nbconvert_exporter": "python",
   "pygments_lexer": "ipython3",
   "version": "3.6.10"
  }
 },
 "nbformat": 4,
 "nbformat_minor": 1
}
